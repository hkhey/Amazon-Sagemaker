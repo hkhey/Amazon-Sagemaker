{
 "cells": [
  {
   "cell_type": "code",
   "execution_count": 2,
   "id": "c5a0df24",
   "metadata": {},
   "outputs": [
    {
     "name": "stdout",
     "output_type": "stream",
     "text": [
      "Archive:  mlruns.zip\n",
      "   creating: mlruns/\n",
      "   creating: mlruns/1/\n",
      "   creating: mlruns/1/3b45b3a4a0874848b07353ba0f341bce/\n",
      "   creating: mlruns/1/3b45b3a4a0874848b07353ba0f341bce/params/\n",
      " extracting: mlruns/1/3b45b3a4a0874848b07353ba0f341bce/params/max_iter  \n",
      " extracting: mlruns/1/3b45b3a4a0874848b07353ba0f341bce/params/solver  \n",
      " extracting: mlruns/1/3b45b3a4a0874848b07353ba0f341bce/params/penalty  \n",
      "   creating: mlruns/1/3b45b3a4a0874848b07353ba0f341bce/metrics/\n",
      " extracting: mlruns/1/3b45b3a4a0874848b07353ba0f341bce/metrics/eval_acc  \n",
      " extracting: mlruns/1/3b45b3a4a0874848b07353ba0f341bce/metrics/train_acc  \n",
      " extracting: mlruns/1/3b45b3a4a0874848b07353ba0f341bce/metrics/auc_score  \n",
      "   creating: mlruns/1/3b45b3a4a0874848b07353ba0f341bce/tags/\n",
      "  inflating: mlruns/1/3b45b3a4a0874848b07353ba0f341bce/tags/mlflow.log-model.history  \n",
      " extracting: mlruns/1/3b45b3a4a0874848b07353ba0f341bce/tags/mlflow.source.name  \n",
      " extracting: mlruns/1/3b45b3a4a0874848b07353ba0f341bce/tags/mlflow.source.type  \n",
      " extracting: mlruns/1/3b45b3a4a0874848b07353ba0f341bce/tags/mlflow.user  \n",
      "  inflating: mlruns/1/3b45b3a4a0874848b07353ba0f341bce/meta.yaml  \n",
      "   creating: mlruns/1/3b45b3a4a0874848b07353ba0f341bce/artifacts/\n",
      "  inflating: mlruns/1/3b45b3a4a0874848b07353ba0f341bce/artifacts/sklearn_conf_matrix.png  \n",
      "  inflating: mlruns/1/3b45b3a4a0874848b07353ba0f341bce/artifacts/sklearn_roc_plot.png  \n",
      "   creating: mlruns/1/3b45b3a4a0874848b07353ba0f341bce/artifacts/log_reg_model/\n",
      "  inflating: mlruns/1/3b45b3a4a0874848b07353ba0f341bce/artifacts/log_reg_model/MLmodel  \n",
      "  inflating: mlruns/1/3b45b3a4a0874848b07353ba0f341bce/artifacts/log_reg_model/model.pkl  \n",
      "  inflating: mlruns/1/3b45b3a4a0874848b07353ba0f341bce/artifacts/log_reg_model/python_env.yaml  \n",
      "  inflating: mlruns/1/3b45b3a4a0874848b07353ba0f341bce/artifacts/log_reg_model/conda.yaml  \n",
      " extracting: mlruns/1/3b45b3a4a0874848b07353ba0f341bce/artifacts/log_reg_model/requirements.txt  \n",
      "  inflating: mlruns/1/meta.yaml      \n",
      "   creating: mlruns/0/\n",
      "  inflating: mlruns/0/meta.yaml      \n",
      "   creating: mlruns/.trash/\n"
     ]
    }
   ],
   "source": [
    "%%sh\n",
    "unzip -o mlruns.zip"
   ]
  },
  {
   "cell_type": "code",
   "execution_count": 3,
   "id": "ee2d885d",
   "metadata": {},
   "outputs": [
    {
     "name": "stdout",
     "output_type": "stream",
     "text": [
      "2.109.0\n"
     ]
    }
   ],
   "source": [
    "import sagemaker\n",
    "\n",
    "print(sagemaker.__version__)\n",
    "sess = sagemaker.Session()\n",
    "bucket = sess.default_bucket()"
   ]
  },
  {
   "cell_type": "code",
   "execution_count": 4,
   "id": "e5c1b9cf",
   "metadata": {},
   "outputs": [
    {
     "name": "stdout",
     "output_type": "stream",
     "text": [
      "Completed 87 Bytes/~30.0 KiB (3.6 KiB/s) with ~10 file(s) remaining (calculating...)\n",
      "upload: mlruns/0/meta.yaml to s3://sagemaker-us-east-1-878904878863/0/meta.yaml     \n",
      "Completed 87 Bytes/~30.0 KiB (3.6 KiB/s) with ~9 file(s) remaining (calculating...)\n",
      "Completed 11.0 KiB/~30.1 KiB (126.8 KiB/s) with ~14 file(s) remaining (calculating...)\n",
      "upload: mlruns/1/3b45b3a4a0874848b07353ba0f341bce/artifacts/sklearn_roc_plot.png to s3://sagemaker-us-east-1-878904878863/1/3b45b3a4a0874848b07353ba0f341bce/artifacts/sklearn_roc_plot.png\n",
      "Completed 11.0 KiB/~30.1 KiB (126.8 KiB/s) with ~13 file(s) remaining (calculating...)\n",
      "Completed 11.4 KiB/30.7 KiB (106.2 KiB/s) with 18 file(s) remaining                   \n",
      "upload: mlruns/1/3b45b3a4a0874848b07353ba0f341bce/artifacts/log_reg_model/MLmodel to s3://sagemaker-us-east-1-878904878863/1/3b45b3a4a0874848b07353ba0f341bce/artifacts/log_reg_model/MLmodel\n",
      "Completed 11.4 KiB/30.7 KiB (106.2 KiB/s) with 17 file(s) remaining\n",
      "Completed 28.2 KiB/30.7 KiB (232.5 KiB/s) with 17 file(s) remaining\n",
      "upload: mlruns/1/3b45b3a4a0874848b07353ba0f341bce/artifacts/sklearn_conf_matrix.png to s3://sagemaker-us-east-1-878904878863/1/3b45b3a4a0874848b07353ba0f341bce/artifacts/sklearn_conf_matrix.png\n",
      "Completed 28.2 KiB/30.7 KiB (232.5 KiB/s) with 16 file(s) remaining\n",
      "Completed 28.2 KiB/30.7 KiB (211.3 KiB/s) with 16 file(s) remaining\n",
      "upload: mlruns/1/3b45b3a4a0874848b07353ba0f341bce/params/max_iter to s3://sagemaker-us-east-1-878904878863/1/3b45b3a4a0874848b07353ba0f341bce/params/max_iter\n",
      "Completed 28.2 KiB/30.7 KiB (211.3 KiB/s) with 15 file(s) remaining\n",
      "Completed 28.4 KiB/30.7 KiB (210.0 KiB/s) with 15 file(s) remaining\n",
      "upload: mlruns/1/3b45b3a4a0874848b07353ba0f341bce/artifacts/log_reg_model/conda.yaml to s3://sagemaker-us-east-1-878904878863/1/3b45b3a4a0874848b07353ba0f341bce/artifacts/log_reg_model/conda.yaml\n",
      "Completed 28.4 KiB/30.7 KiB (210.0 KiB/s) with 14 file(s) remaining\n",
      "Completed 28.4 KiB/30.7 KiB (198.0 KiB/s) with 14 file(s) remaining\n",
      "upload: mlruns/1/3b45b3a4a0874848b07353ba0f341bce/metrics/eval_acc to s3://sagemaker-us-east-1-878904878863/1/3b45b3a4a0874848b07353ba0f341bce/metrics/eval_acc\n",
      "Completed 28.4 KiB/30.7 KiB (198.0 KiB/s) with 13 file(s) remaining\n",
      "Completed 28.4 KiB/30.7 KiB (192.2 KiB/s) with 13 file(s) remaining\n",
      "upload: mlruns/1/3b45b3a4a0874848b07353ba0f341bce/tags/mlflow.source.type to s3://sagemaker-us-east-1-878904878863/1/3b45b3a4a0874848b07353ba0f341bce/tags/mlflow.source.type\n",
      "Completed 28.4 KiB/30.7 KiB (192.2 KiB/s) with 12 file(s) remaining\n",
      "Completed 28.8 KiB/30.7 KiB (192.0 KiB/s) with 12 file(s) remaining\n",
      "upload: mlruns/1/3b45b3a4a0874848b07353ba0f341bce/meta.yaml to s3://sagemaker-us-east-1-878904878863/1/3b45b3a4a0874848b07353ba0f341bce/meta.yaml\n",
      "Completed 28.8 KiB/30.7 KiB (192.0 KiB/s) with 11 file(s) remaining\n",
      "Completed 28.8 KiB/30.7 KiB (183.2 KiB/s) with 11 file(s) remaining\n",
      "upload: mlruns/1/3b45b3a4a0874848b07353ba0f341bce/metrics/train_acc to s3://sagemaker-us-east-1-878904878863/1/3b45b3a4a0874848b07353ba0f341bce/metrics/train_acc\n",
      "Completed 28.8 KiB/30.7 KiB (183.2 KiB/s) with 10 file(s) remaining\n",
      "Completed 28.9 KiB/30.7 KiB (171.3 KiB/s) with 10 file(s) remaining\n",
      "upload: mlruns/1/3b45b3a4a0874848b07353ba0f341bce/metrics/auc_score to s3://sagemaker-us-east-1-878904878863/1/3b45b3a4a0874848b07353ba0f341bce/metrics/auc_score\n",
      "Completed 28.9 KiB/30.7 KiB (171.3 KiB/s) with 9 file(s) remaining\n",
      "Completed 28.9 KiB/30.7 KiB (156.4 KiB/s) with 9 file(s) remaining\n",
      "upload: mlruns/1/3b45b3a4a0874848b07353ba0f341bce/tags/mlflow.user to s3://sagemaker-us-east-1-878904878863/1/3b45b3a4a0874848b07353ba0f341bce/tags/mlflow.user\n",
      "Completed 28.9 KiB/30.7 KiB (156.4 KiB/s) with 8 file(s) remaining\n",
      "Completed 28.9 KiB/30.7 KiB (156.2 KiB/s) with 8 file(s) remaining\n",
      "upload: mlruns/1/3b45b3a4a0874848b07353ba0f341bce/artifacts/log_reg_model/requirements.txt to s3://sagemaker-us-east-1-878904878863/1/3b45b3a4a0874848b07353ba0f341bce/artifacts/log_reg_model/requirements.txt\n",
      "Completed 28.9 KiB/30.7 KiB (156.2 KiB/s) with 7 file(s) remaining\n",
      "Completed 28.9 KiB/30.7 KiB (155.7 KiB/s) with 7 file(s) remaining\n",
      "upload: mlruns/1/3b45b3a4a0874848b07353ba0f341bce/params/solver to s3://sagemaker-us-east-1-878904878863/1/3b45b3a4a0874848b07353ba0f341bce/params/solver\n",
      "Completed 28.9 KiB/30.7 KiB (155.7 KiB/s) with 6 file(s) remaining\n",
      "Completed 28.9 KiB/30.7 KiB (155.0 KiB/s) with 6 file(s) remaining\n",
      "upload: mlruns/1/3b45b3a4a0874848b07353ba0f341bce/params/penalty to s3://sagemaker-us-east-1-878904878863/1/3b45b3a4a0874848b07353ba0f341bce/params/penalty\n",
      "Completed 28.9 KiB/30.7 KiB (155.0 KiB/s) with 5 file(s) remaining\n",
      "Completed 29.0 KiB/30.7 KiB (155.1 KiB/s) with 5 file(s) remaining\n",
      "upload: mlruns/1/3b45b3a4a0874848b07353ba0f341bce/artifacts/log_reg_model/python_env.yaml to s3://sagemaker-us-east-1-878904878863/1/3b45b3a4a0874848b07353ba0f341bce/artifacts/log_reg_model/python_env.yaml\n",
      "Completed 29.0 KiB/30.7 KiB (155.1 KiB/s) with 4 file(s) remaining\n",
      "Completed 29.5 KiB/30.7 KiB (152.7 KiB/s) with 4 file(s) remaining\n",
      "upload: mlruns/1/3b45b3a4a0874848b07353ba0f341bce/tags/mlflow.log-model.history to s3://sagemaker-us-east-1-878904878863/1/3b45b3a4a0874848b07353ba0f341bce/tags/mlflow.log-model.history\n",
      "Completed 29.5 KiB/30.7 KiB (152.7 KiB/s) with 3 file(s) remaining\n",
      "Completed 29.6 KiB/30.7 KiB (137.9 KiB/s) with 3 file(s) remaining\n",
      "upload: mlruns/1/meta.yaml to s3://sagemaker-us-east-1-878904878863/1/meta.yaml\n",
      "Completed 29.6 KiB/30.7 KiB (137.9 KiB/s) with 2 file(s) remaining\n",
      "Completed 30.7 KiB/30.7 KiB (137.5 KiB/s) with 2 file(s) remaining\n",
      "upload: mlruns/1/3b45b3a4a0874848b07353ba0f341bce/artifacts/log_reg_model/model.pkl to s3://sagemaker-us-east-1-878904878863/1/3b45b3a4a0874848b07353ba0f341bce/artifacts/log_reg_model/model.pkl\n",
      "Completed 30.7 KiB/30.7 KiB (137.5 KiB/s) with 1 file(s) remaining\n",
      "Completed 30.7 KiB/30.7 KiB (113.6 KiB/s) with 1 file(s) remaining\n",
      "upload: mlruns/1/3b45b3a4a0874848b07353ba0f341bce/tags/mlflow.source.name to s3://sagemaker-us-east-1-878904878863/1/3b45b3a4a0874848b07353ba0f341bce/tags/mlflow.source.name\n",
      "\n",
      "\n",
      "Saved to bucket:  sagemaker-us-east-1-878904878863\n"
     ]
    }
   ],
   "source": [
    "import subprocess\n",
    "mlruns_direc = \"./mlruns/\"\n",
    "output = subprocess.run([\"aws\", \"s3\", \"sync\", \"{}\".format(mlruns_direc), \"s3://{}\".format(bucket)],stdout=subprocess.PIPE, encoding='utf-8')\n",
    "print(output.stdout)\n",
    "print(\"\\nSaved to bucket: \", bucket)"
   ]
  },
  {
   "cell_type": "markdown",
   "id": "4cfbdd55",
   "metadata": {},
   "source": [
    "sur le terminal: \n",
    "1. installez mlflow: pip install mlflow \n",
    "2. puis lancez la commande: mlflow sagemaker build-and-push-container"
   ]
  },
  {
   "cell_type": "code",
   "execution_count": null,
   "id": "6e464ff2",
   "metadata": {},
   "outputs": [],
   "source": []
  }
 ],
 "metadata": {
  "kernelspec": {
   "display_name": "conda_pytorch_p38",
   "language": "python",
   "name": "conda_pytorch_p38"
  },
  "language_info": {
   "codemirror_mode": {
    "name": "ipython",
    "version": 3
   },
   "file_extension": ".py",
   "mimetype": "text/x-python",
   "name": "python",
   "nbconvert_exporter": "python",
   "pygments_lexer": "ipython3",
   "version": "3.8.12"
  }
 },
 "nbformat": 4,
 "nbformat_minor": 5
}
